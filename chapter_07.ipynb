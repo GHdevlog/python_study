{
 "cells": [
  {
   "cell_type": "markdown",
   "metadata": {},
   "source": [
    "## 엑셀 파일 처리"
   ]
  },
  {
   "cell_type": "code",
   "execution_count": null,
   "metadata": {},
   "outputs": [],
   "source": [
    "# pip install xlrd"
   ]
  },
  {
   "cell_type": "code",
   "execution_count": 7,
   "metadata": {},
   "outputs": [
    {
     "name": "stdout",
     "output_type": "stream",
     "text": [
      "워크시트는 2개 입니다.\n",
      "** 워크시트의 이름 : senior\n",
      "행 수는 6, 열 개수는 7 입니다.\n",
      "** 워크시트의 이름 : junior\n",
      "행 수는 6, 열 개수는 7 입니다.\n"
     ]
    }
   ],
   "source": [
    "import xlrd\n",
    "\n",
    "workbook = xlrd.open_workbook('./source/Excel/singer.xls')\n",
    "sheetCount = workbook.nsheets\n",
    "\n",
    "print(\"워크시트는 %d개 입니다.\" % sheetCount)\n",
    "\n",
    "wsheetList = workbook.sheets()\n",
    "for worksheet in wsheetList:\n",
    "    print(\"** 워크시트의 이름 : %s\" % worksheet.name)\n",
    "    print(\"행 수는 %d, 열 개수는 %d 입니다.\" %(worksheet.nrows, worksheet.ncols))\n"
   ]
  },
  {
   "cell_type": "code",
   "execution_count": 6,
   "metadata": {},
   "outputs": [
    {
     "name": "stdout",
     "output_type": "stream",
     "text": [
      "** 워크시트의 이름 : senior\n",
      "아이디\t이름\t인원\t주소\t평균 키\t데뷔 일자\t유튜브 조회수\t\n",
      "WMN\t여자친구\t6.0\t경기\t166.0\t2015.01.15\t800.0\t\n",
      "GRL\t소녀시대\t8.0\t서울\t168.0\t2007.08.02\t1114600.0\t\n",
      "RED\t레드벨벳\t4.0\t경북\t161.0\t2014.08.01\t44500.0\t\n",
      "APN\t에이핑크\t6.0\t경기\t164.0\t2011.02.10\t2900.0\t\n",
      "MMU\t마마무\t4.0\t전남\t165.0\t2014.06.19\t6900.0\t\n",
      "\n",
      "** 워크시트의 이름 : junior\n",
      "아이디\t이름\t인원\t주소\t평균 키\t데뷔 일자\t유튜브 조회수\t\n",
      "TWC\t트와이스\t9.0\t서울\t167.0\t2015.10.19\t3334500.0\t\n",
      "BLK\t블랙핑크\t4.0\t경남\t163.0\t2016.08.08\t443700.0\t\n",
      "OMY\t오마이걸\t7.0\t서울\t160.0\t2015.04.21\t3500.0\t\n",
      "ITZ\t있지\t5.0\t경남\t167.0\t2019.02.12\t21300.0\t\n",
      "SPC\t우주소녀\t13.0\t서울\t162.0\t2016.02.25\t350.0\t\n",
      "\n"
     ]
    }
   ],
   "source": [
    "import xlrd\n",
    "\n",
    "workbook = xlrd.open_workbook('./source/Excel/singer.xls')\n",
    "sheetCount = workbook.nsheets\n",
    "\n",
    "wsheetList = workbook.sheets()\n",
    "for worksheet in wsheetList:\n",
    "    print(\"** 워크시트의 이름 : %s\" % worksheet.name)\n",
    "\n",
    "    for row in range(worksheet.nrows):\n",
    "        for col in range(worksheet.ncols):\n",
    "            print(\"%s\" % worksheet.cell_value(row,col), end=\"\\t\")\n",
    "        print()\n",
    "    print()"
   ]
  },
  {
   "cell_type": "code",
   "execution_count": 9,
   "metadata": {},
   "outputs": [
    {
     "name": "stdout",
     "output_type": "stream",
     "text": [
      "전체 가수그룹 인원 합계: 66\n",
      "가수 그룹 인원 평균: 6.6\n"
     ]
    }
   ],
   "source": [
    "import xlrd\n",
    "\n",
    "# 엑셀 파일을 열기\n",
    "workbook = xlrd.open_workbook('./source/Excel/singer.xls')\n",
    "\n",
    "# 시트 개수 확인\n",
    "sheetCount = workbook.nsheets\n",
    "\n",
    "# 전체 인원 및 행, 열 개수 초기화\n",
    "personNum = 0\n",
    "personIdx = 2\n",
    "rowCount = 0\n",
    "\n",
    "# 시트 목록 가져오기\n",
    "wsheetList = workbook.sheets()\n",
    "\n",
    "# 각 시트에 대해 작업\n",
    "for worksheet in wsheetList:\n",
    "    # 행 수 누적\n",
    "    rowCount += worksheet.nrows - 1\n",
    "\n",
    "    # 각 행에 대해 반복\n",
    "    for row in range(1, worksheet.nrows):\n",
    "        # 해당 열의 값 더하기\n",
    "        personNum += int(worksheet.cell_value(row, personIdx))\n",
    "\n",
    "# 결과 출력\n",
    "print(\"전체 가수그룹 인원 합계:\", personNum)\n",
    "print(\"가수 그룹 인원 평균:\", personNum / rowCount)\n"
   ]
  }
 ],
 "metadata": {
  "kernelspec": {
   "display_name": "Python 3",
   "language": "python",
   "name": "python3"
  },
  "language_info": {
   "codemirror_mode": {
    "name": "ipython",
    "version": 3
   },
   "file_extension": ".py",
   "mimetype": "text/x-python",
   "name": "python",
   "nbconvert_exporter": "python",
   "pygments_lexer": "ipython3",
   "version": "3.12.2"
  }
 },
 "nbformat": 4,
 "nbformat_minor": 2
}
