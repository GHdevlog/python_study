{
 "cells": [
  {
   "cell_type": "markdown",
   "metadata": {},
   "source": [
    "## ...이어서 엑셀처리"
   ]
  },
  {
   "cell_type": "code",
   "execution_count": null,
   "metadata": {},
   "outputs": [],
   "source": [
    "# pip install xlrd\n",
    "# pip install xlwt"
   ]
  },
  {
   "cell_type": "code",
   "execution_count": null,
   "metadata": {},
   "outputs": [],
   "source": [
    "import xlrd\n",
    "import xlwt\n",
    "\n",
    "workbook = xlrd.open_workbook('./source/Excel/singer.xls')\n",
    "outWorkbook = xlwt.Workbook()\n",
    "idx = 4\n",
    "\n",
    "wsheetList = workbook.sheets()\n",
    "outSheet = outWorkbook.add_sheet(\"Singer\")\n",
    "worksheet = wsheetList[0]\n",
    "for col in range(worksheet.ncols):\n",
    "    outSheet.write(0,col,worksheet.cell_value(0,col))\n",
    "\n",
    "totalRow = 0\n",
    "for worksheet in wsheetList:\n",
    "    for row in range(1,worksheet.nrows):\n",
    "        height = worksheet.cell_value(row,idx)\n",
    "        if int(height) >= 165:\n",
    "            totalRow += 1\n",
    "            for col in range(worksheet.ncols):\n",
    "                outSheet.write(totalRow, col, worksheet.cell_value(row,col))\n",
    "\n",
    "outWorkbook.save('./source/Excel/outSinger2.xls')\n",
    "print(\"Save. OK~\")"
   ]
  },
  {
   "cell_type": "code",
   "execution_count": null,
   "metadata": {},
   "outputs": [],
   "source": [
    "# pip install pandas"
   ]
  },
  {
   "cell_type": "code",
   "execution_count": null,
   "metadata": {},
   "outputs": [],
   "source": [
    "import pandas as pd\n",
    "\n",
    "# Excel 파일 불러오기\n",
    "xls = pd.ExcelFile('./source/Excel/singer.xls')\n",
    "\n",
    "# 모든 시트를 DataFrame으로 읽어오기\n",
    "dfs = []\n",
    "for sheet_name in xls.sheet_names:\n",
    "    df = xls.parse(sheet_name)\n",
    "    dfs.append(df)\n",
    "\n",
    "# 키워드로 행 필터링하여 새로운 DataFrame 만들기\n",
    "filtered_dfs = []\n",
    "for df in dfs:\n",
    "    filtered_df = df[df['Height'] >= 165]  # 필터링 조건에 맞는 행 선택\n",
    "    filtered_dfs.append(filtered_df)\n",
    "\n",
    "# 새로운 Excel 파일에 필터링된 데이터 저장\n",
    "with pd.ExcelWriter('./source/Excel/singer2.xlsx') as writer:\n",
    "    for i, filtered_df in enumerate(filtered_dfs):\n",
    "        filtered_df.to_excel(writer, sheet_name=f'Singer_{i}', index=False)\n",
    "\n",
    "print(\"Save. OK~\")\n"
   ]
  },
  {
   "cell_type": "code",
   "execution_count": null,
   "metadata": {},
   "outputs": [],
   "source": [
    "import xlrd\n",
    "import csv\n",
    "\n",
    "workbook = xlrd.open_workbook('./source/Excel/singer.xls')\n",
    "\n",
    "wsheetList = workbook.sheets()\n",
    "for worksheet in wsheetList:\n",
    "    with open('./source/Excel/singer_'+ worksheet.name + '.xls','w',newline='' )\\\n",
    "    as outFp:\n",
    "        csvWriter = csv.writer(outFp)\n",
    "        for row in range(worksheet.nrows):\n",
    "            row_list = worksheet.row_values(row)\n",
    "            csvWriter.writerow(row_list)\n",
    "\n",
    "print(\"Save OK~\")\n",
    "\n"
   ]
  },
  {
   "cell_type": "code",
   "execution_count": null,
   "metadata": {},
   "outputs": [],
   "source": [
    "import xlwt\n",
    "import csv\n",
    "import os\n",
    "\n",
    "csvFileList = ['./source/CSV/singerA.csv','./source/CSV/singerB.csv']\n",
    "outWorkbook = xlwt.Workbook()\n",
    "\n",
    "for csvFileName in csvFileList:\n",
    "    rowCount = 0\n",
    "    with open(csvFileName, 'r') as inFp:\n",
    "        csvReader = csv.reader(inFp)\n",
    "        header_list = next(csvReader)\n",
    "        outSheet = outWorkbook.add_sheet(os.path.basename(csvFileName))\n",
    "        for col in range(len(header_list)):\n",
    "            outSheet.write(rowCount, col, header_list[col])\n",
    "        for row_list in csvReader:\n",
    "            rowCount += 1\n",
    "            for col in range(len(row_list)):\n",
    "                if row_list[col].isnumeric():\n",
    "                    outSheet.write(rowCount, col, float(row_list[col]))\n",
    "                else:\n",
    "                    outSheet.write(rowCount, col, row_list[col])\n",
    "\n",
    "outWorkbook.save('./source/Excel/singerCSV.xls')\n",
    "print(\"Save OK~\")\n"
   ]
  },
  {
   "cell_type": "markdown",
   "metadata": {},
   "source": [
    "## 이미지 프로세싱"
   ]
  },
  {
   "cell_type": "code",
   "execution_count": null,
   "metadata": {},
   "outputs": [],
   "source": [
    "from tkinter import *\n",
    "\n",
    "# window = Tk()\n",
    "photo = PhotoImage(file='./source/GIF/pic7.gif')\n",
    "\n",
    "h = photo.height()\n",
    "w = photo.width()\n",
    "print('이미지 크기 : ',h,'x',w)\n",
    "\n",
    "photoR = [[0 for _ in range(h)] for _ in range(w)]\n",
    "photoG = [[0 for _ in range(h)] for _ in range(w)]\n",
    "photoB = [[0 for _ in range(h)] for _ in range(w)]\n",
    "\n",
    "for i in range(w):\n",
    "    for j in range(h):\n",
    "        r, g, b = photo.get(i,j)\n",
    "        photoR[i][j] = r\n",
    "        photoG[i][j] = g\n",
    "        photoB[i][j] = b\n",
    "\n",
    "print(\"[50][50] 위치의 RGB 값 : \", photo.get(50,50))\n",
    "print(\"[50][50] 위치의 RGB 값 : \", photoR[50][50],photoG[50][50],photoB[50][50])"
   ]
  },
  {
   "cell_type": "code",
   "execution_count": null,
   "metadata": {},
   "outputs": [],
   "source": [
    "# pip install xlsxwriter"
   ]
  },
  {
   "cell_type": "code",
   "execution_count": 28,
   "metadata": {},
   "outputs": [
    {
     "name": "stdout",
     "output_type": "stream",
     "text": [
      "이미지 크기 :  250 x 185\n",
      "Save OK\n"
     ]
    }
   ],
   "source": [
    "from tkinter import *\n",
    "import xlsxwriter\n",
    "window = Tk()\n",
    "\n",
    "photo = PhotoImage(file='./source/GIF/pic7.gif')\n",
    "h = photo.height()\n",
    "w = photo.width()\n",
    "print('이미지 크기 : ',h,'x',w)\n",
    "\n",
    "photoR = [[0 for _ in range(h)] for _ in range(w)]\n",
    "photoG = [[0 for _ in range(h)] for _ in range(w)]\n",
    "photoB = [[0 for _ in range(h)] for _ in range(w)]\n",
    "\n",
    "for i in range(w):\n",
    "    for j in range(h):\n",
    "        r, g, b = photo.get(i,j)\n",
    "        photoR[i][j] = r\n",
    "        photoG[i][j] = g\n",
    "        photoB[i][j] = b\n",
    "\n",
    "workbook = xlsxwriter.Workbook('./source/Excel/pic7.xlsx')\n",
    "worksheetR = workbook.add_worksheet('photoR')\n",
    "worksheetG = workbook.add_worksheet('photoG')\n",
    "worksheetB = workbook.add_worksheet('photoB')\n",
    "\n",
    "for i in range(w):\n",
    "    for j in range(h):\n",
    "        worksheetR.write(i,j,photoR[i][j])\n",
    "        worksheetG.write(i,j,photoG[i][j])\n",
    "        worksheetB.write(i,j,photoB[i][j])\n",
    "\n",
    "workbook.close()\n",
    "print(\"Save OK\")"
   ]
  },
  {
   "cell_type": "code",
   "execution_count": null,
   "metadata": {},
   "outputs": [],
   "source": [
    "hexR = hex(15)\n",
    "hexG = hex(12)\n",
    "hexB = hex(3)\n",
    "\n",
    "hexStr = '#'\n",
    "for rgb in [hexR,hexG,hexB]:\n",
    "    if len(rgb[2:]) < 2:\n",
    "        hexStr += '0' + hexR[2:]"
   ]
  },
  {
   "cell_type": "code",
   "execution_count": 29,
   "metadata": {},
   "outputs": [
    {
     "name": "stdout",
     "output_type": "stream",
     "text": [
      "이미지 크기 :  250 x 185\n",
      "Save OK\n"
     ]
    }
   ],
   "source": [
    "from tkinter import *\n",
    "import xlsxwriter\n",
    "window = Tk()\n",
    "\n",
    "photo = PhotoImage(file='./source/GIF/pic7.gif')\n",
    "h = photo.height()\n",
    "w = photo.width()\n",
    "print('이미지 크기 : ',h,'x',w)\n",
    "\n",
    "photoR = [[0 for _ in range(h)] for _ in range(w)]\n",
    "photoG = [[0 for _ in range(h)] for _ in range(w)]\n",
    "photoB = [[0 for _ in range(h)] for _ in range(w)]\n",
    "\n",
    "for i in range(w):\n",
    "    for j in range(h):\n",
    "        r, g, b = photo.get(i,j)\n",
    "        photoR[i][j] = r\n",
    "        photoG[i][j] = g\n",
    "        photoB[i][j] = b\n",
    "\n",
    "workbook = xlsxwriter.Workbook(\"./source/Excel/picture06_art.xlsx\")\n",
    "worksheet = workbook.add_worksheet('photoRGB')\n",
    "\n",
    "worksheet.set_column(0,w-1,1.0)\n",
    "for i in range(w):\n",
    "    for j in range(h):\n",
    "        hexR = hex(photoR[i][j])\n",
    "        hexG = hex(photoG[i][j])\n",
    "        hexB = hex(photoB[i][j])\n",
    "        hexStr = '#'\n",
    "        for rgb in [hexR,hexG,hexB]:\n",
    "            if len(rgb[2:]) < 2:\n",
    "                hexStr += '0' + rgb[2:]\n",
    "            else:\n",
    "                hexStr += rgb[2:]\n",
    "        \n",
    "        cell_format = workbook.add_format()\n",
    "        cell_format.set_bg_color(hexStr)\n",
    "        worksheet.write(j, i, '', cell_format)\n",
    "\n",
    "workbook.close()\n",
    "print(\"Save OK\")"
   ]
  },
  {
   "cell_type": "code",
   "execution_count": null,
   "metadata": {},
   "outputs": [],
   "source": []
  }
 ],
 "metadata": {
  "kernelspec": {
   "display_name": "Python 3",
   "language": "python",
   "name": "python3"
  },
  "language_info": {
   "codemirror_mode": {
    "name": "ipython",
    "version": 3
   },
   "file_extension": ".py",
   "mimetype": "text/x-python",
   "name": "python",
   "nbconvert_exporter": "python",
   "pygments_lexer": "ipython3",
   "version": "3.12.2"
  }
 },
 "nbformat": 4,
 "nbformat_minor": 2
}
