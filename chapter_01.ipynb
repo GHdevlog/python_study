{
 "cells": [
  {
   "cell_type": "code",
   "execution_count": null,
   "metadata": {},
   "outputs": [],
   "source": [
    "print(\"안녕하세요.\")"
   ]
  },
  {
   "cell_type": "markdown",
   "metadata": {},
   "source": [
    "### 정수와 실수 출력"
   ]
  },
  {
   "cell_type": "code",
   "execution_count": null,
   "metadata": {},
   "outputs": [],
   "source": [
    "print(\"100\")\n",
    "print(\"%d\" % 100)\n",
    "print(\"{}\".format(100))\n",
    "\n",
    "print(\"100+100\")\n",
    "print(\"%d\" % (100+100))\n",
    "\n",
    "print(\"%d / %d = %5.1f\" % (100,200,0.5))\n",
    "\n",
    "print(\"%x\" % 20)"
   ]
  },
  {
   "cell_type": "code",
   "execution_count": null,
   "metadata": {},
   "outputs": [],
   "source": [
    "print(type(200000000000000000000000000000))\n",
    "print(type(200000000000000000000000000000.0))"
   ]
  },
  {
   "cell_type": "code",
   "execution_count": null,
   "metadata": {},
   "outputs": [],
   "source": [
    "print(\"%d\" % 123)\n",
    "print(\"%5d\" % 123)\n",
    "print(\"%05d\" % 123)\n",
    "\n",
    "print(\"%f\" % 123.45)\n",
    "print(\"%7.1f\" % 123.45)\n",
    "print(\"%7.3f\" % 123.45)\n",
    "\n",
    "print(\"%s\" % \"Python\")\n",
    "print(\"%10s\" % \"Python\")\n",
    "\n",
    "print(\"{2:d} {1:d} {0:d}\".format(100, 200, 300))"
   ]
  },
  {
   "cell_type": "markdown",
   "metadata": {},
   "source": [
    "### 문자열 출력"
   ]
  },
  {
   "cell_type": "code",
   "execution_count": null,
   "metadata": {},
   "outputs": [],
   "source": [
    "print(\"한 행입니다. 또 한행입니다.\")\n",
    "print(\"한 행입니다. \\n또 한행입니다.\")\n",
    "\n",
    "print(\"\\n줄바꿈\\n연습\")\n",
    "print(\"\\t탭키\\t연습\")\n",
    "print(\"글자가 \\\"강조\\\"되는 효과1\")\n",
    "print(\"글자가 \\'강조\\'되는 ㅎ과2\")\n",
    "print(\"\\\\\\\\\\\\ 역슬래시 3개 출력\")\n",
    "print(r\"\\n \\t \\\" \\\\를 그대로 출력\")"
   ]
  },
  {
   "cell_type": "markdown",
   "metadata": {},
   "source": [
    "### 자료형"
   ]
  },
  {
   "cell_type": "code",
   "execution_count": null,
   "metadata": {},
   "outputs": [],
   "source": [
    "boolVar = True\n",
    "intVar = 0\n",
    "floatVar = 0.0\n",
    "strVar = \"apple\"\n",
    "\n",
    "a = 100\n",
    "b = 100\n",
    "\n",
    "print(a==b)\n",
    "\n",
    "a = 100**100\n",
    "print(a)\n",
    "print(type(a))"
   ]
  },
  {
   "cell_type": "markdown",
   "metadata": {},
   "source": [
    "### 이진수 및 연산"
   ]
  },
  {
   "cell_type": "code",
   "execution_count": null,
   "metadata": {},
   "outputs": [],
   "source": [
    "a = 0xFF\n",
    "b = 0o77\n",
    "c = 0b1111\n",
    "\n",
    "print(a, b, c)\n",
    "\n",
    "print(\"%b\" % 20)\n",
    "print(\"%o\" % 20)\n",
    "print(\"%x\" % 20)"
   ]
  },
  {
   "cell_type": "code",
   "execution_count": null,
   "metadata": {},
   "outputs": [],
   "source": [
    "a = 10; b = 20\n",
    "print(a+b, a-b, a*b, a/b)\n",
    "\n",
    "a, b = 9, 2\n",
    "print(a**b, a%b, a//b)\n",
    "\n",
    "a = True\n",
    "print(type(a))\n",
    "\n",
    "a = (100==100)\n",
    "b = (10>100)\n",
    "print(f\"{a = }, {b = }\")"
   ]
  },
  {
   "cell_type": "markdown",
   "metadata": {},
   "source": [
    "### 형 변환"
   ]
  },
  {
   "cell_type": "code",
   "execution_count": null,
   "metadata": {},
   "outputs": [],
   "source": [
    "a = \"파이썬 만세\"\n",
    "print(a)\n",
    "print(type(a))\n",
    "\n",
    "s1, s2, s3 = \"100\", \"100.123\", \"99999999999999\"\n",
    "print(int(s1)+1, float(s2)+1, int(s3)+1)\n",
    "\n",
    "a = 100; b = 100.123\n",
    "print(str(a)+\"1\", str(b)+\"1\")"
   ]
  },
  {
   "cell_type": "markdown",
   "metadata": {},
   "source": [
    "### 대입 연산자"
   ]
  },
  {
   "cell_type": "code",
   "execution_count": null,
   "metadata": {},
   "outputs": [],
   "source": [
    "a = 10\n",
    "a += 5; print(a)\n",
    "a -= 5; print(a)\n",
    "a *= 5; print(a)\n",
    "a /= 5; print(a)\n",
    "a //= 5; print(a)\n",
    "a %= 5; print(a)\n",
    "a **= 5; print(a)\n",
    "\n",
    "a = 100; b = 200\n",
    "\n",
    "print(a==b, a!=b, a>b, a<b, a>=b, a<=b)"
   ]
  },
  {
   "cell_type": "code",
   "execution_count": null,
   "metadata": {},
   "outputs": [],
   "source": [
    "a = 256\n",
    "b = 256\n",
    "\n",
    "print(a==b, a is b)\n",
    "print()\n",
    "\n",
    "a = 99\n",
    "print((a>100) and (a<200))\n",
    "print((a>100) or  (a<200))\n",
    "print(not(a==100))"
   ]
  },
  {
   "cell_type": "markdown",
   "metadata": {},
   "source": [
    "### 예제 만들기"
   ]
  },
  {
   "cell_type": "code",
   "execution_count": null,
   "metadata": {},
   "outputs": [],
   "source": [
    "money = int(input(\"교환할 돈의 금액 : \"))\n",
    "money, c500, c100, c50, c10 = 0,0,0,0,0\n",
    "\n",
    "c500 = money//500\n",
    "c100 = (money%500)//100\n",
    "c50 = (money%100)//50\n",
    "c10 = (money%50)//10\n",
    "remain = money%10\n",
    "\n",
    "print(\"\\n 500원짜리 : %d개\" % c500)\n",
    "print(\"\\n 100원짜리 : %d개\" % c100)\n",
    "print(\"\\n 50원짜리 : %d개\" % c50)\n",
    "print(\"\\n 10원짜리 : %d개\" % c10)\n",
    "print(\"\\n 바꾸지 못한 돈 : %d\" % remain)"
   ]
  },
  {
   "cell_type": "code",
   "execution_count": null,
   "metadata": {},
   "outputs": [],
   "source": [
    "# money = int(input(\"교환할 돈의 금액 : \"))\n",
    "money = 7777\n",
    "\n",
    "coin_list = [1000000, 500, 100, 50, 10, 1]\n",
    "\n",
    "coin_name = [\"500원짜리\", \"100원짜리\", \"50원짜리\", \"10원짜리\", \"바꾸지 못한 돈\"]\n",
    "\n",
    "for i in range(len(coin_name)):\n",
    "    print(coin_name[i],\": \", end='')\n",
    "    print((money%coin_list[i])//coin_list[i+1], \"개\")"
   ]
  }
 ],
 "metadata": {
  "kernelspec": {
   "display_name": "Python 3",
   "language": "python",
   "name": "python3"
  },
  "language_info": {
   "codemirror_mode": {
    "name": "ipython",
    "version": 3
   },
   "file_extension": ".py",
   "mimetype": "text/x-python",
   "name": "python",
   "nbconvert_exporter": "python",
   "pygments_lexer": "ipython3",
   "version": "3.12.2"
  }
 },
 "nbformat": 4,
 "nbformat_minor": 2
}
