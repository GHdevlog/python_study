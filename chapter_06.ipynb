{
 "cells": [
  {
   "cell_type": "markdown",
   "metadata": {},
   "source": [
    "### CSV 파일 처리"
   ]
  },
  {
   "cell_type": "code",
   "execution_count": null,
   "metadata": {},
   "outputs": [],
   "source": [
    "with open(\"./source/CSV/singer1.csv\",\"r\") as inFp:\n",
    "\n",
    "    inStr = inFp.readline()\n",
    "    print(inStr, end='')\n",
    "\n",
    "    inStr = inFp.readline()\n",
    "    print(inStr, end='')"
   ]
  },
  {
   "cell_type": "code",
   "execution_count": null,
   "metadata": {},
   "outputs": [],
   "source": [
    "def printList(pList):\n",
    "    for data in pList:\n",
    "        print(data, end='\\t')\n",
    "    print()\n",
    "\n",
    "with open(\"./source/CSV/singer1.csv\",\"r\") as inFp:\n",
    "    header = inFp.readline()\n",
    "    header = header.strip()\n",
    "    header_list = header.split(',')\n",
    "\n",
    "    printList(header_list)\n",
    "\n",
    "    for inStr in inFp:\n",
    "        inStr = inStr.strip()\n",
    "        row_list = inStr.split(',')\n",
    "        printList(row_list)"
   ]
  },
  {
   "cell_type": "code",
   "execution_count": null,
   "metadata": {},
   "outputs": [],
   "source": [
    "import tkinter as tk\n",
    "from tkinter import filedialog\n",
    "from tkinter import ttk\n",
    "import csv\n",
    "\n",
    "def open_file():\n",
    "    file_path = filedialog.askopenfilename(filetypes=[(\"CSV files\", \"*.csv\")])\n",
    "    if file_path:\n",
    "        with open(file_path, \"r\") as file:\n",
    "            reader = csv.reader(file)\n",
    "            # 열 제목을 읽음\n",
    "            headers = next(reader)\n",
    "            # 열 수를 확인\n",
    "            num_columns = len(headers)\n",
    "            # 기존 데이터 삭제\n",
    "            for row in tree.get_children():\n",
    "                tree.delete(row)\n",
    "            # 열 제목을 표에 추가\n",
    "            tree[\"columns\"] = headers\n",
    "            for col in headers:\n",
    "                tree.heading(col, text=col)\n",
    "                tree.column(col, width=100)  # 열 너비를 일정하게 설정\n",
    "            # 데이터 추가\n",
    "            for row_data in reader:\n",
    "                tree.insert(\"\", \"end\", values=row_data)\n",
    "\n",
    "root = tk.Tk()\n",
    "root.title(\"파일 메뉴 예제\")\n",
    "\n",
    "# 메뉴바 생성\n",
    "menubar = tk.Menu(root)\n",
    "root.config(menu=menubar)\n",
    "\n",
    "# 파일 메뉴 생성\n",
    "file_menu = tk.Menu(menubar, tearoff=False)\n",
    "menubar.add_cascade(label=\"파일\", menu=file_menu)\n",
    "\n",
    "# 파일 메뉴에 파일 열기 기능 추가\n",
    "file_menu.add_command(label=\"열기\", command=open_file)\n",
    "\n",
    "# 표 생성\n",
    "tree = ttk.Treeview(root, show=\"headings\")  # 맨 왼쪽의 공백 열 제거\n",
    "tree.pack(expand=True, fill=\"both\")\n",
    "\n",
    "root.mainloop()\n"
   ]
  },
  {
   "cell_type": "code",
   "execution_count": null,
   "metadata": {},
   "outputs": [],
   "source": [
    "pip install PyQt5"
   ]
  },
  {
   "cell_type": "code",
   "execution_count": 1,
   "metadata": {},
   "outputs": [],
   "source": [
    "import sys\n",
    "from PyQt5.QtWidgets import QApplication, QMainWindow, QAction, QFileDialog, QTableWidget, QTableWidgetItem\n",
    "from PyQt5.QtGui import QColor\n",
    "import csv\n",
    "\n",
    "class MainWindow(QMainWindow):\n",
    "    def __init__(self):\n",
    "        super().__init__()\n",
    "        self.initUI()\n",
    "\n",
    "    def initUI(self):\n",
    "        self.setWindowTitle(\"파일 메뉴 예제\")\n",
    "\n",
    "        # 메뉴바 생성\n",
    "        menubar = self.menuBar()\n",
    "        file_menu = menubar.addMenu(\"파일\")\n",
    "\n",
    "        # 파일 열기 액션 추가\n",
    "        open_action = QAction(\"열기\", self)\n",
    "        open_action.triggered.connect(self.open_file)\n",
    "        file_menu.addAction(open_action)\n",
    "\n",
    "        # 표 생성\n",
    "        self.table = QTableWidget()\n",
    "        self.setCentralWidget(self.table)\n",
    "\n",
    "    def open_file(self):\n",
    "        file_path, _ = QFileDialog.getOpenFileName(self, \"열기\", \"\", \"CSV 파일 (*.csv)\")\n",
    "        if file_path:\n",
    "            with open(file_path, \"r\", newline=\"\") as file:\n",
    "                reader = csv.reader(file)\n",
    "                data = list(reader)\n",
    "                headers = data[0]  # 첫 번째 행을 헤더로 사용\n",
    "                num_rows = len(data) - 1  # 헤더 행을 제외한 나머지 행의 수\n",
    "                num_cols = len(headers)\n",
    "                self.table.setRowCount(num_rows)\n",
    "                self.table.setColumnCount(num_cols)\n",
    "                self.table.setHorizontalHeaderLabels(headers)\n",
    "                for i, row_data in enumerate(data[1:], 0):  # 첫 번째 행을 제외하고 반복\n",
    "                    for j, cell_data in enumerate(row_data):\n",
    "                        item = QTableWidgetItem(cell_data)\n",
    "                        if i % 2 == 0:  # 짝수 행일 때 배경색 변경\n",
    "                            item.setBackground(QColor(240, 240, 240))\n",
    "                        self.table.setItem(i, j, item)\n",
    "                \n",
    "                # 표의 크기에 맞게 창 크기 조정\n",
    "                table_width = self.table.horizontalHeader().length() + 20  # 여유 공간을 더함\n",
    "                table_height = self.table.verticalHeader().length() + 40  # 여유 공간을 더함\n",
    "                self.resize(table_width, table_height)\n",
    "\n",
    "if __name__ == \"__main__\":\n",
    "    app = QApplication(sys.argv)\n",
    "    window = MainWindow()\n",
    "    window.show()\n",
    "    sys.exit(app.exec_())\n",
    "\n"
   ]
  },
  {
   "cell_type": "code",
   "execution_count": 10,
   "metadata": {},
   "outputs": [
    {
     "data": {
      "text/plain": [
       "'파이썬#데이터#분석'"
      ]
     },
     "execution_count": 10,
     "metadata": {},
     "output_type": "execute_result"
    }
   ],
   "source": [
    "myList = ['파이썬','데이터','분석']\n",
    "\n",
    "'#'.join(myList)"
   ]
  },
  {
   "cell_type": "code",
   "execution_count": 11,
   "metadata": {},
   "outputs": [
    {
     "data": {
      "text/plain": [
       "['100', '200', '300']"
      ]
     },
     "execution_count": 11,
     "metadata": {},
     "output_type": "execute_result"
    }
   ],
   "source": [
    "myList = [100,200,300]\n",
    "list(map(str, myList))"
   ]
  },
  {
   "cell_type": "code",
   "execution_count": 12,
   "metadata": {},
   "outputs": [
    {
     "data": {
      "text/plain": [
       "'2025/8/8'"
      ]
     },
     "execution_count": 12,
     "metadata": {},
     "output_type": "execute_result"
    }
   ],
   "source": [
    "myList = [2025, 8, 8]\n",
    "'/'.join(map(str, myList))"
   ]
  },
  {
   "cell_type": "code",
   "execution_count": 9,
   "metadata": {},
   "outputs": [
    {
     "name": "stdout",
     "output_type": "stream",
     "text": [
      "Save. OK~\n"
     ]
    }
   ],
   "source": [
    "with open(\"./source/CSV/singer1.csv\",\"r\") as inFp:  # 원본 CSV 파일을 읽기 모드로 엽니다.\n",
    "    with open(\"./source/CSV/new_singer1.csv\",\"w\") as outFp:  # 새로운 CSV 파일을 쓰기 모드로 엽니다.\n",
    "\n",
    "        # 첫 번째 줄은 헤더입니다. 헤더를 읽어들이고 쉼표로 분리하여 리스트로 만듭니다.\n",
    "        header = inFp.readline()\n",
    "        header = header.strip()  # 헤더의 앞뒤 공백을 제거합니다.\n",
    "        header_list = header.split(',')  # 쉼표로 헤더를 분리하여 리스트로 만듭니다.\n",
    "        header_str = ','.join(map(str, header_list))  # 리스트를 다시 문자열로 변환합니다.\n",
    "        outFp.write(header_str + \"\\n\")  # 새 파일에 헤더를 씁니다.\n",
    "\n",
    "        # 파일의 나머지 내용을 처리합니다.\n",
    "        for inStr in inFp:\n",
    "            inStr = inStr.strip()  # 현재 줄의 앞뒤 공백을 제거합니다.\n",
    "            row_list = inStr.split(',')  # 쉼표로 분리하여 리스트로 만듭니다.\n",
    "\n",
    "            # 생일의 형식을 yyyy.mm.dd 에서 yyyy/mm/dd로 변경\n",
    "            row_list[-1] = row_list[-1].replace('.','/')  # 마지막 열(생일)의 .을 /로 변경합니다.\n",
    "\n",
    "            # 키를 소수점 둘째 자리까지 표기합니다.\n",
    "            height_str = \"{0:.2f}\".format(int(row_list[-2]))  # 키를 정수형으로 변환하고 소수점 둘째 자리까지 문자열로 포맷팅합니다.\n",
    "            row_list[-2] = height_str  # 마지막에서 두 번째 열(키)을 변환된 문자열로 업데이트합니다.\n",
    "\n",
    "            row_str = ','.join(map(str, row_list))  # 리스트를 다시 문자열로 변환합니다.\n",
    "            outFp.write(row_str + \"\\n\")  # 새 파일에 변환된 줄을 씁니다.\n",
    "\n",
    "print(\"Save. OK~\")  # 처리 완료 메시지를 출력합니다.\n"
   ]
  },
  {
   "cell_type": "code",
   "execution_count": 25,
   "metadata": {},
   "outputs": [
    {
     "name": "stdout",
     "output_type": "stream",
     "text": [
      "Save. OK~\n"
     ]
    }
   ],
   "source": [
    "with open(\"./source/CSV/singer1.csv\", \"r\") as inFp:\n",
    "    with open(\"./source/CSV/new_singer2.csv\", \"w\") as outFp:\n",
    "        \n",
    "        header = inFp.readline()\n",
    "        header = header.strip()\n",
    "        header_list = header.split(',')\n",
    "\n",
    "        idx1 = header_list.index('아이디')\n",
    "        idx2 = header_list.index('이름')\n",
    "        idx3 = header_list.index('평균 키')\n",
    "\n",
    "        header_list = [header_list[idx1], header_list[idx2], header_list[idx3]]\n",
    "        header_str = ','.join(map(str, header_list))\n",
    "        outFp.write(header_str + \"\\n\")\n",
    "\n",
    "        for inStr in inFp:\n",
    "            inStr = inStr.strip()\n",
    "            row_list = inStr.split(',')\n",
    "\n",
    "            if int(row_list[idx3]) >= 165:\n",
    "                row_list = [row_list[idx1], row_list[idx2], row_list[idx3]]\n",
    "                row_str = ','.join(map(str, row_list))\n",
    "                outFp.write(row_str + \"\\n\")\n",
    "\n",
    "print(\"Save. OK~\")\n"
   ]
  },
  {
   "cell_type": "code",
   "execution_count": 35,
   "metadata": {},
   "outputs": [
    {
     "name": "stdout",
     "output_type": "stream",
     "text": [
      "이름 유튜브 조회수\n",
      "트와이스 333만\n",
      "블랙핑크 44만\n",
      "여자친구 0만\n",
      "오마이걸 0만\n",
      "소녀시대 111만\n",
      "있지 2만\n",
      "레드벨벳 4만\n",
      "에이핑크 0만\n",
      "우주소녀 0만\n",
      "마마무 0만\n"
     ]
    }
   ],
   "source": [
    "import csv\n",
    "\n",
    "with open(\"./source/CSV/singer2.csv\", \"r\") as inFp:\n",
    "    \n",
    "    csvReader = csv.reader(inFp)\n",
    "    header_list = next(csvReader)\n",
    "    print(header_list[1], header_list[6])\n",
    "\n",
    "    for row_list in csvReader:\n",
    "        youtube = int(row_list[6].replace(\",\", \"\"))\n",
    "        youtube = int(youtube/10000)\n",
    "        print(row_list[1], str(youtube)+'만')\n"
   ]
  },
  {
   "cell_type": "code",
   "execution_count": 45,
   "metadata": {},
   "outputs": [],
   "source": [
    "from tkinter import *\n",
    "import csv\n",
    "\n",
    "# 빈 시트를 만드는 함수\n",
    "def makeEmptySheet(r, w):\n",
    "    retList = []\n",
    "    for i in range(r):\n",
    "        tmpList = []\n",
    "        for j in range(w):\n",
    "            # Entry 위젯을 생성하여 윈도우에 그리고, 입력된 값을 저장할 리스트에 추가\n",
    "            ent = Entry(window, text='', width=10)\n",
    "            ent.grid(row=i, column=j)\n",
    "            tmpList.append(ent)\n",
    "        retList.append(tmpList)\n",
    "    return retList\n",
    "\n",
    "csvList = []  # CSV 파일의 데이터를 저장할 리스트\n",
    "rowNum, colNum = 0, 0  # CSV 파일의 행과 열 수를 저장할 변수\n",
    "workSheet = []  # 시트를 나타내는 2차원 리스트\n",
    "\n",
    "window = Tk()  # tkinter 윈도우 생성\n",
    "\n",
    "# CSV 파일 열기\n",
    "with open(\"./source/CSV/singer1.csv\", \"r\") as inFp:\n",
    "    csvReader = csv.reader(inFp)\n",
    "    header_list = next(csvReader)  # 헤더 리스트 추출\n",
    "    csvList.append(header_list)\n",
    "    for row_list in csvReader:\n",
    "        csvList.append(row_list)  # CSV 파일 데이터를 리스트에 추가\n",
    "\n",
    "    rowNum = len(csvList)  # 행 수 계산\n",
    "    colNum = len(csvList[0])  # 열 수 계산\n",
    "    workSheet = makeEmptySheet(rowNum, colNum)  # 빈 시트 생성\n",
    "\n",
    "    idx = 6  # 색을 변경하기위해 참조하는 열의 인덱스\n",
    "    for i in range(rowNum):\n",
    "        for j in range(colNum):\n",
    "            # 셀의 값이 숫자인 경우 특정 조건에 따라 배경색을 변경\n",
    "            if csvList[i][idx].isnumeric():\n",
    "                if int(csvList[i][idx]) >= 167:\n",
    "                    ent = workSheet[i][j]\n",
    "                    ent.configure(bg='yellow')  # 배경색 변경\n",
    "            workSheet[i][j].insert(0, csvList[i][j])  # 셀에 CSV 데이터 입력\n",
    "\n",
    "    window.mainloop()  # tkinter 윈도우 실행\n"
   ]
  },
  {
   "cell_type": "code",
   "execution_count": 49,
   "metadata": {},
   "outputs": [],
   "source": [
    "from tkinter import *\n",
    "import csv\n",
    "from tkinter import filedialog\n",
    "\n",
    "def makeEmptySheet(r, w):\n",
    "    retList = []\n",
    "    for i in range(r):\n",
    "        tmpList = []\n",
    "        for j in range(w):\n",
    "            ent = Entry(window, text='', width=10)\n",
    "            ent.grid(row=i, column=j)\n",
    "            tmpList.append(ent)\n",
    "        retList.append(tmpList)\n",
    "    return retList\n",
    "\n",
    "def updateCellValue(event):\n",
    "    row = event.widget.grid_info()['row']\n",
    "    col = event.widget.grid_info()['column']\n",
    "    value = event.widget.get()\n",
    "    workSheet[row][col].delete(0, END)\n",
    "    workSheet[row][col].insert(0, value)\n",
    "\n",
    "def saveCSVAs():\n",
    "    file_path = filedialog.asksaveasfilename(defaultextension=\".csv\", filetypes=[(\"CSV Files\", \"*.csv\"), (\"All Files\", \"*.*\")])\n",
    "    if file_path:\n",
    "        with open(file_path, \"w\", newline='') as outFp:\n",
    "            writer = csv.writer(outFp)\n",
    "            for row in workSheet:\n",
    "                writer.writerow([cell.get() for cell in row])\n",
    "\n",
    "csvList = []\n",
    "rowNum, colNum = 0, 0\n",
    "workSheet = []\n",
    "\n",
    "window = Tk()\n",
    "\n",
    "with open(\"./source/CSV/singer1.csv\", \"r\") as inFp:\n",
    "    csvReader = csv.reader(inFp)\n",
    "    header_list = next(csvReader)\n",
    "    csvList.append(header_list)\n",
    "    for row_list in csvReader:\n",
    "        csvList.append(row_list)\n",
    "\n",
    "    rowNum = len(csvList)\n",
    "    colNum = len(csvList[0])\n",
    "    workSheet = makeEmptySheet(rowNum, colNum)\n",
    "\n",
    "    idx = 6\n",
    "    for i in range(rowNum):\n",
    "        for j in range(colNum):\n",
    "            if csvList[i][idx].isnumeric():\n",
    "                if int(csvList[i][idx]) >= 167:\n",
    "                    ent = workSheet[i][j]\n",
    "                    ent.configure(bg='yellow')\n",
    "            workSheet[i][j].insert(0, csvList[i][j])\n",
    "            workSheet[i][j].bind(\"<Return>\", updateCellValue)\n",
    "\n",
    "# 메뉴 생성\n",
    "menu = Menu(window)\n",
    "window.config(menu=menu)\n",
    "file_menu = Menu(menu)\n",
    "menu.add_cascade(label=\"File\", menu=file_menu)\n",
    "file_menu.add_command(label=\"Save As\", command=saveCSVAs)\n",
    "\n",
    "window.mainloop()\n"
   ]
  },
  {
   "cell_type": "code",
   "execution_count": null,
   "metadata": {},
   "outputs": [],
   "source": []
  }
 ],
 "metadata": {
  "kernelspec": {
   "display_name": "Python 3",
   "language": "python",
   "name": "python3"
  },
  "language_info": {
   "codemirror_mode": {
    "name": "ipython",
    "version": 3
   },
   "file_extension": ".py",
   "mimetype": "text/x-python",
   "name": "python",
   "nbconvert_exporter": "python",
   "pygments_lexer": "ipython3",
   "version": "3.12.2"
  }
 },
 "nbformat": 4,
 "nbformat_minor": 2
}
