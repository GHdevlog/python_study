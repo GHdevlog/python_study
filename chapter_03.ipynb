{
 "cells": [
  {
   "cell_type": "code",
   "execution_count": 6,
   "metadata": {},
   "outputs": [
    {
     "name": "stdout",
     "output_type": "stream",
     "text": [
      "현재 리스트 : [30, 10, 20]\n",
      "append(40) 후의 리스트 : [30, 10, 20, 40]\n",
      "pop()으로 추출한 값 : 40\n",
      "pop() 후의 리스트 : [30, 10, 20]\n",
      "sort() 후의 리스트 : [10, 20, 30]\n",
      "reverse() 후의 리스트 : [30, 20, 10]\n",
      "20값의 위치 : 1\n",
      "insert(2,222) 후의 리스트 : [30, 20, 222, 10]\n",
      "remove(222) 후의 리스트 : [30, 20, 10]\n",
      "extend([77,88,77]) 후의 리스트 : [30, 20, 10, 77, 88, 77]\n",
      "77값의 개수 : 2\n"
     ]
    }
   ],
   "source": [
    "myList = [30,10,20]\n",
    "print(\"현재 리스트 : %s\" % myList)\n",
    "\n",
    "myList.append(40)\n",
    "print(\"append(40) 후의 리스트 : %s\" % myList)\n",
    "\n",
    "print(\"pop()으로 추출한 값 : %s\" % myList.pop())\n",
    "print(\"pop() 후의 리스트 : %s\" % myList)\n",
    "\n",
    "myList.sort()\n",
    "print(\"sort() 후의 리스트 : %s\" % myList)\n",
    "\n",
    "myList.reverse()\n",
    "print(\"reverse() 후의 리스트 : %s\" % myList)\n",
    "\n",
    "print(\"20값의 위치 : %d\" % myList.index(20))\n",
    "\n",
    "myList.insert(2,222)\n",
    "print(\"insert(2,222) 후의 리스트 : %s\" % myList)\n",
    "\n",
    "myList.remove(222)\n",
    "print(\"remove(222) 후의 리스트 : %s\" % myList)\n",
    "\n",
    "myList.extend([77,88,77])\n",
    "print(\"extend([77,88,77]) 후의 리스트 : %s\" % myList)\n",
    "\n",
    "print(\"77값의 개수 : %d\" % myList.count(77))"
   ]
  },
  {
   "cell_type": "code",
   "execution_count": 9,
   "metadata": {},
   "outputs": [
    {
     "name": "stdout",
     "output_type": "stream",
     "text": [
      "  1\t  2\t  3\t  4\t\n",
      "  5\t  6\t  7\t  8\t\n",
      "  9\t 10\t 11\t 12\t\n"
     ]
    }
   ],
   "source": [
    "list1 = []\n",
    "list2 = []\n",
    "value = 1\n",
    "\n",
    "for i in range(3):\n",
    "    for j in range(4):\n",
    "        list1.append(value)\n",
    "        value += 1\n",
    "    list2.append(list1)\n",
    "    list1 = []\n",
    "\n",
    "for i in range(3):\n",
    "    for j in range(4):\n",
    "        print(\"%3d\" % list2[i][j], end=\"\\t\")\n",
    "    print(\"\")"
   ]
  },
  {
   "cell_type": "code",
   "execution_count": 12,
   "metadata": {},
   "outputs": [
    {
     "name": "stdout",
     "output_type": "stream",
     "text": [
      "001\t002\t003\t004\t\n",
      "005\t006\t007\t008\t\n",
      "009\t010\t011\t012\t\n"
     ]
    }
   ],
   "source": [
    "for raw in list2:\n",
    "    for num in raw:\n",
    "        print(\"%03d\" % num, end=\"\\t\")\n",
    "    print(\"\")"
   ]
  },
  {
   "cell_type": "code",
   "execution_count": 2,
   "metadata": {},
   "outputs": [
    {
     "name": "stdout",
     "output_type": "stream",
     "text": [
      "## 원본 2차원 배열 ##\n",
      "135 086 117 251 047 \n",
      "244 028 082 112 009 \n",
      "088 148 170 075 179 \n",
      "048 025 224 065 244 \n",
      "104 014 220 119 021 \n",
      "\n",
      "## 반전된 배열 ##\n",
      "120 169 138 004 208 \n",
      "011 227 173 143 246 \n",
      "167 107 085 180 076 \n",
      "207 230 031 190 011 \n",
      "151 241 035 136 234 \n",
      "\n"
     ]
    }
   ],
   "source": [
    "import random\n",
    "\n",
    "imageList = []\n",
    "value = 0\n",
    "ROW=5;COL=5\n",
    "\n",
    "if __name__ == \"__main__\":\n",
    "    for i in range(ROW):\n",
    "        tmpList = []\n",
    "        for j in range(COL):\n",
    "            value = random.randrange(0,256)\n",
    "            tmpList.append(value)\n",
    "        imageList.append(tmpList)\n",
    "\n",
    "    print(\"## 원본 2차원 배열 ##\")\n",
    "    for i in range(ROW):\n",
    "        for j in range(COL):\n",
    "            print(\"%03d\" % imageList[i][j], end=\" \")\n",
    "        print()\n",
    "    print()\n",
    "\n",
    "    for i in range(ROW):\n",
    "        for j in range(COL):\n",
    "            imageList[i][j] = 255 - imageList[i][j]\n",
    "\n",
    "    print(\"## 반전된 배열 ##\")\n",
    "    for i in range(ROW):\n",
    "        for j in range(COL):\n",
    "            print(\"%03d\" % imageList[i][j], end=\" \")\n",
    "        print()\n",
    "    print()"
   ]
  },
  {
   "cell_type": "markdown",
   "metadata": {},
   "source": [
    "### 튜플"
   ]
  },
  {
   "cell_type": "code",
   "execution_count": 4,
   "metadata": {},
   "outputs": [
    {
     "name": "stdout",
     "output_type": "stream",
     "text": [
      "(20, 30)\n",
      "(20, 30, 40)\n",
      "(10, 20, 30)\n"
     ]
    }
   ],
   "source": [
    "tt1 = (10,20,30,40)\n",
    "\n",
    "print(tt1[1:3])\n",
    "print(tt1[1:])\n",
    "print(tt1[:3])"
   ]
  },
  {
   "cell_type": "code",
   "execution_count": 5,
   "metadata": {},
   "outputs": [
    {
     "name": "stdout",
     "output_type": "stream",
     "text": [
      "(10, 20, 30, 40, 'A', 'B')\n",
      "('A', 'B', 'A', 'B', 'A', 'B')\n"
     ]
    }
   ],
   "source": [
    "tt2 = ('A', 'B')\n",
    "\n",
    "print(tt1+tt2)\n",
    "print(tt2*3)"
   ]
  },
  {
   "cell_type": "code",
   "execution_count": 6,
   "metadata": {},
   "outputs": [
    {
     "name": "stdout",
     "output_type": "stream",
     "text": [
      "(10, 20, 30)\n",
      "(10, 20, 30)\n"
     ]
    }
   ],
   "source": [
    "tt1 = (10,20,30)\n",
    "print(tt1)\n",
    "tt2 = 10,20,30\n",
    "print(tt2)"
   ]
  },
  {
   "cell_type": "code",
   "execution_count": 9,
   "metadata": {},
   "outputs": [
    {
     "name": "stdout",
     "output_type": "stream",
     "text": [
      "10\n",
      "60\n"
     ]
    }
   ],
   "source": [
    "# tt1.append(40)\n",
    "\n",
    "del(tt1)\n",
    "del(tt2)\n",
    "\n",
    "tt1 = (10,20,30,400)\n",
    "print(tt1[0])\n",
    "print(tt1[0] + tt1[1] + tt1[2])"
   ]
  },
  {
   "cell_type": "markdown",
   "metadata": {},
   "source": [
    "### 딕셔너리"
   ]
  },
  {
   "cell_type": "code",
   "execution_count": 11,
   "metadata": {},
   "outputs": [
    {
     "name": "stdout",
     "output_type": "stream",
     "text": [
      "{1: 'a', 2: 'b', 3: 'c'}\n",
      "{'a': 1, 'b': 2, 'c': 3}\n"
     ]
    }
   ],
   "source": [
    "dic1 = {1:'a', 2:'b',3:'c'}\n",
    "print(dic1)\n",
    "\n",
    "dic2 = {'a':1, 'b':2, 'c':3}\n",
    "print(dic2)\n",
    "\n"
   ]
  },
  {
   "cell_type": "code",
   "execution_count": 12,
   "metadata": {},
   "outputs": [
    {
     "name": "stdout",
     "output_type": "stream",
     "text": [
      "이름 --> 트와이스\n",
      "구성원 수 --> 9\n",
      "데뷔 --> 서바이벌 식스틴\n",
      "대표곡 --> SIGNAL\n"
     ]
    }
   ],
   "source": [
    "singer = {}\n",
    "\n",
    "singer['이름'] = \"트와이스\"\n",
    "singer['구성원 수'] = 9\n",
    "singer['데뷔'] = \"서바이벌 식스틴\"\n",
    "singer['대표곡'] = \"SIGNAL\"\n",
    "\n",
    "for k in singer.keys():\n",
    "    print(\"%s --> %s\" % (k, singer[k]))"
   ]
  },
  {
   "cell_type": "code",
   "execution_count": 17,
   "metadata": {},
   "outputs": [
    {
     "name": "stdout",
     "output_type": "stream",
     "text": [
      "10\n",
      "[20, 30]\n",
      "[40, 50]\n"
     ]
    }
   ],
   "source": [
    "aa = [10,20,30,40,50]\n",
    "print(aa[0])\n",
    "print(aa[1:3])\n",
    "print(aa[3:])"
   ]
  },
  {
   "cell_type": "markdown",
   "metadata": {},
   "source": [
    "### 문자열"
   ]
  },
  {
   "cell_type": "code",
   "execution_count": 15,
   "metadata": {},
   "outputs": [
    {
     "name": "stdout",
     "output_type": "stream",
     "text": [
      "파\n",
      "이썬\n",
      "최고\n"
     ]
    }
   ],
   "source": [
    "ss = \"파이썬최고\"\n",
    "print(ss[0])\n",
    "print(ss[1:3])\n",
    "print(ss[3:])"
   ]
  },
  {
   "cell_type": "code",
   "execution_count": 19,
   "metadata": {},
   "outputs": [
    {
     "name": "stdout",
     "output_type": "stream",
     "text": [
      "파이썬최고\n",
      "파이썬파이썬파이썬\n",
      "7\n"
     ]
    }
   ],
   "source": [
    "ss = \"파이썬\" + \"최고\"\n",
    "print(ss)\n",
    "\n",
    "ss = \"파이썬\" * 3\n",
    "print(ss)\n",
    "\n",
    "ss = \"파이썬abcd\"\n",
    "print(len(ss))"
   ]
  },
  {
   "cell_type": "code",
   "execution_count": 21,
   "metadata": {},
   "outputs": [
    {
     "name": "stdout",
     "output_type": "stream",
     "text": [
      "파$이$썬$짱$!$"
     ]
    }
   ],
   "source": [
    "ss = \"파이썬짱!\"\n",
    "\n",
    "sslen = len(ss)\n",
    "for i in range(sslen):\n",
    "    print(ss[i]+'$', end='')"
   ]
  },
  {
   "cell_type": "code",
   "execution_count": 60,
   "metadata": {},
   "outputs": [
    {
     "name": "stdout",
     "output_type": "stream",
     "text": [
      "파#썬#완#재#있#요\n"
     ]
    }
   ],
   "source": [
    "ss = \"파이썬은완전재미있어요\"\n",
    "\n",
    "sslen = len(ss)\n",
    "for i in range(0,sslen-2,2):\n",
    "    print(ss[i], end='#')\n",
    "print(ss[i+2])"
   ]
  },
  {
   "cell_type": "code",
   "execution_count": 31,
   "metadata": {},
   "outputs": [
    {
     "name": "stdout",
     "output_type": "stream",
     "text": [
      "파#썬#완#재#있#요"
     ]
    }
   ],
   "source": [
    "ss = \"파이썬은완전재미있어요\"\n",
    "\n",
    "sslen = len(ss)\n",
    "for i in range(0,sslen):\n",
    "    if i%2 == 0:\n",
    "        print(ss[i],end='')\n",
    "    else:\n",
    "        print('#',end='')"
   ]
  },
  {
   "cell_type": "code",
   "execution_count": 33,
   "metadata": {},
   "outputs": [
    {
     "name": "stdout",
     "output_type": "stream",
     "text": [
      "PYTHON IS EASY. 그래서 PROGRAMMING이 재미있습니다. ^^\n",
      "python is easy. 그래서 programming이 재미있습니다. ^^\n",
      "pYTHON IS eASY. 그래서 PROGRAMMING이 재미있습니다. ^^\n",
      "Python Is Easy. 그래서 Programming이 재미있습니다. ^^\n"
     ]
    }
   ],
   "source": [
    "ss = \"Python is Easy. 그래서 programming이 재미있습니다. ^^\"\n",
    "\n",
    "print(ss.upper())\n",
    "print(ss.lower())\n",
    "print(ss.swapcase())\n",
    "print(ss.title())"
   ]
  },
  {
   "cell_type": "code",
   "execution_count": 40,
   "metadata": {},
   "outputs": [
    {
     "name": "stdout",
     "output_type": "stream",
     "text": [
      "2\n",
      "4 21 21 -1\n",
      "4 21 21\n",
      "True False True\n"
     ]
    }
   ],
   "source": [
    "ss = \"파이썬 공부는 즐겁습니다. 물론 모든 공부가 다 재미있지는 않죠. ^^\"\n",
    "print(ss.count(\"공부\"))\n",
    "print(ss.find(\"공부\"),ss.rfind(\"공부\"),ss.find(\"공부\",5),ss.find(\"없다\"))\n",
    "print(ss.index(\"공부\"),ss.rindex(\"공부\"),ss.index(\"공부\",5))\n",
    "print(ss.startswith(\"파이썬\"),ss.startswith(\"파이썬\",10),ss.endswith(\"^^\"))"
   ]
  },
  {
   "cell_type": "code",
   "execution_count": 45,
   "metadata": {},
   "outputs": [
    {
     "name": "stdout",
     "output_type": "stream",
     "text": [
      "[2019, 12, 31]\n"
     ]
    }
   ],
   "source": [
    "before = ['2019','12','31']\n",
    "after = list(map(int, before))\n",
    "print(after)"
   ]
  },
  {
   "cell_type": "markdown",
   "metadata": {},
   "source": [
    "### 함수"
   ]
  },
  {
   "cell_type": "code",
   "execution_count": 46,
   "metadata": {},
   "outputs": [
    {
     "name": "stdout",
     "output_type": "stream",
     "text": [
      "100과 200의 plus() 함수 결과는 300\n"
     ]
    }
   ],
   "source": [
    "def plus(v1,v2):\n",
    "    result = 0\n",
    "    result = v1 + v2\n",
    "    return result\n",
    "\n",
    "hap = 0\n",
    "\n",
    "hap = plus(100,200)\n",
    "print(\"100과 200의 plus() 함수 결과는 %d\" % hap)"
   ]
  },
  {
   "cell_type": "code",
   "execution_count": 54,
   "metadata": {},
   "outputs": [
    {
     "name": "stdout",
     "output_type": "stream",
     "text": [
      "0으로 나눌 수 없어요\n"
     ]
    }
   ],
   "source": [
    "def calc(v1,v2,op):\n",
    "    result = 0\n",
    "    if op == '+':\n",
    "        result = v1 + v2\n",
    "    elif op == '-':\n",
    "        result = v1 - v2\n",
    "    elif op == '*':\n",
    "        result = v1*v2\n",
    "    elif op == '/':\n",
    "        if v2 == 0:\n",
    "            print(\"0으로 나눌 수 없어요\")\n",
    "        else:\n",
    "            result = v1/v2\n",
    "    elif op == \"**\":\n",
    "        result = v1**v2\n",
    "    \n",
    "    return result\n",
    "\n",
    "res = 0\n",
    "var1,var2, oper, = 0, 0, \"\"\n",
    "\n",
    "oper = input(\"계산을 입력하세요(+, -, *, /, **) : \")\n",
    "var1 = int(input(\"첫 번째 수를 입력하세요.\"))\n",
    "var2 = int(input(\"두 번째 수를 입력하세요.\"))\n",
    "\n",
    "if oper == '/' and var2 == 0:\n",
    "    print(\"0으로 나눌 수 없어요\")\n",
    "else:\n",
    "    res = calc(var1,var2,oper)\n",
    "    print(\"## 계산기 : %d %s %d = %d\" % (var1,oper,var2,res))"
   ]
  },
  {
   "cell_type": "code",
   "execution_count": 2,
   "metadata": {},
   "outputs": [
    {
     "name": "stdout",
     "output_type": "stream",
     "text": [
      "func1()에서 a값 10\n",
      "func2()에서 a값 20\n"
     ]
    }
   ],
   "source": [
    "def func1():\n",
    "    a = 10\n",
    "    print(\"func1()에서 a값 %d\" % a)\n",
    "\n",
    "def func2():\n",
    "    print(\"func2()에서 a값 %d\" % a)\n",
    "\n",
    "a = 20\n",
    "\n",
    "func1()\n",
    "func2()"
   ]
  },
  {
   "cell_type": "code",
   "execution_count": 1,
   "metadata": {},
   "outputs": [
    {
     "name": "stdout",
     "output_type": "stream",
     "text": [
      "func1()에서 a값 10\n",
      "func2()에서 a값 10\n"
     ]
    }
   ],
   "source": [
    "def func1():\n",
    "    global a\n",
    "    a = 10\n",
    "    print(\"func1()에서 a값 %d\" % a)\n",
    "\n",
    "def func2():\n",
    "    print(\"func2()에서 a값 %d\" % a)\n",
    "\n",
    "a = 20\n",
    "\n",
    "func1()\n",
    "func2()"
   ]
  },
  {
   "cell_type": "code",
   "execution_count": 3,
   "metadata": {},
   "outputs": [
    {
     "name": "stdout",
     "output_type": "stream",
     "text": [
      "func1()에서 돌려준 값 ==> 100\n",
      "반환값이 없는 함수 실행\n"
     ]
    }
   ],
   "source": [
    "def func1():\n",
    "    result = 100\n",
    "    return result\n",
    "\n",
    "def func2():\n",
    "    print(\"반환값이 없는 함수 실행\")\n",
    "\n",
    "hap = func1()\n",
    "print(\"func1()에서 돌려준 값 ==> %d\" % hap)\n",
    "func2()"
   ]
  },
  {
   "cell_type": "code",
   "execution_count": 1,
   "metadata": {},
   "outputs": [
    {
     "name": "stdout",
     "output_type": "stream",
     "text": [
      "multi()에서 돌려준 값 ==> 300 -100\n"
     ]
    }
   ],
   "source": [
    "def multi(v1, v2):\n",
    "    retList = []\n",
    "    res1 = v1 + v2\n",
    "    res2 = v1 - v2\n",
    "    retList.append(res1)\n",
    "    retList.append(res2)\n",
    "    return retList\n",
    "\n",
    "myList = []\n",
    "hap, sub = 0,0\n",
    "\n",
    "myList = multi(100,200)\n",
    "\n",
    "hap = myList[0]\n",
    "sub = myList[1]\n",
    "\n",
    "print(\"multi()에서 돌려준 값 ==> %d %d\" % (hap, sub))"
   ]
  },
  {
   "cell_type": "code",
   "execution_count": null,
   "metadata": {},
   "outputs": [],
   "source": [
    "def myFunc():\n",
    "    pass"
   ]
  },
  {
   "cell_type": "code",
   "execution_count": 3,
   "metadata": {},
   "outputs": [
    {
     "name": "stdout",
     "output_type": "stream",
     "text": [
      "매개변수가 2개인 함수를 호출한 결과 ==> 30\n",
      "매개변수가 3개인 함수를 호출한 결과 ==> 60\n"
     ]
    }
   ],
   "source": [
    "def para2_func(v1,v2):\n",
    "    result = 0\n",
    "    result = v1 + v2\n",
    "    return result\n",
    "\n",
    "def para3_func(v1, v2, v3):\n",
    "    result = 0\n",
    "    result = v1 + v2 + v3\n",
    "    return result\n",
    "\n",
    "hap = 0\n",
    "\n",
    "hap = para2_func(10,20)\n",
    "print(\"매개변수가 2개인 함수를 호출한 결과 ==> %d\" % hap)\n",
    "\n",
    "hap = para3_func(10,20,30)\n",
    "print(\"매개변수가 3개인 함수를 호출한 결과 ==> %d\" % hap)"
   ]
  },
  {
   "cell_type": "code",
   "execution_count": 85,
   "metadata": {},
   "outputs": [
    {
     "name": "stdout",
     "output_type": "stream",
     "text": [
      "** 로또 추첨을 시작합니다.**\n",
      "\n",
      "추첨된 로또 번호 ==> 15 16 29 31 36 38 "
     ]
    }
   ],
   "source": [
    "import random\n",
    "\n",
    "def getNumber():\n",
    "    return random.randrange(1,46)\n",
    "\n",
    "lotto = []\n",
    "num = 0\n",
    "\n",
    "print(\"** 로또 추첨을 시작합니다.**\\n\")\n",
    "\n",
    "while True:\n",
    "    num = getNumber()\n",
    "    if lotto.count(num) == 0:\n",
    "        lotto.append(num)\n",
    "    if len(lotto) >= 6:\n",
    "        break\n",
    "\n",
    "print(\"추첨된 로또 번호 ==> \", end='')\n",
    "lotto.sort()\n",
    "for i in range(0,6):\n",
    "    print(\"%d\" % lotto[i], end=' ')"
   ]
  }
 ],
 "metadata": {
  "kernelspec": {
   "display_name": "Python 3",
   "language": "python",
   "name": "python3"
  },
  "language_info": {
   "codemirror_mode": {
    "name": "ipython",
    "version": 3
   },
   "file_extension": ".py",
   "mimetype": "text/x-python",
   "name": "python",
   "nbconvert_exporter": "python",
   "pygments_lexer": "ipython3",
   "version": "3.12.2"
  }
 },
 "nbformat": 4,
 "nbformat_minor": 2
}
