{
 "cells": [
  {
   "cell_type": "markdown",
   "metadata": {},
   "source": [
    "### 제어문"
   ]
  },
  {
   "cell_type": "code",
   "execution_count": 5,
   "metadata": {},
   "outputs": [
    {
     "name": "stdout",
     "output_type": "stream",
     "text": [
      "100보다 크군요\n",
      "종료\n",
      "짝수입니다.\n"
     ]
    }
   ],
   "source": [
    "a = 200\n",
    "if a<100:\n",
    "    print(\"100보다 작군요.\")\n",
    "else:\n",
    "    print(\"100보다 크군요\")\n",
    "print(\"종료\")\n",
    "\n",
    "a = 10\n",
    "\n",
    "if a%2 == 0:\n",
    "    print(\"짝수입니다.\")\n",
    "else:\n",
    "    print(\"홀수입니다.\")"
   ]
  },
  {
   "cell_type": "code",
   "execution_count": 6,
   "metadata": {},
   "outputs": [
    {
     "name": "stdout",
     "output_type": "stream",
     "text": [
      "50보다 크고 100보다 작군요.\n"
     ]
    }
   ],
   "source": [
    "a = 75\n",
    "\n",
    "if a>50:\n",
    "    if a<100:\n",
    "        print(\"50보다 크고 100보다 작군요.\")\n",
    "    else:\n",
    "        print(\"와~~ 100보다 크군요.\")\n",
    "else:\n",
    "    print(\"에고~ 50보다 작군요.\")"
   ]
  },
  {
   "cell_type": "code",
   "execution_count": 7,
   "metadata": {},
   "outputs": [
    {
     "ename": "ValueError",
     "evalue": "invalid literal for int() with base 10: ''",
     "output_type": "error",
     "traceback": [
      "\u001b[1;31m---------------------------------------------------------------------------\u001b[0m",
      "\u001b[1;31mValueError\u001b[0m                                Traceback (most recent call last)",
      "Cell \u001b[1;32mIn[7], line 1\u001b[0m\n\u001b[1;32m----> 1\u001b[0m score \u001b[38;5;241m=\u001b[39m \u001b[38;5;28;43mint\u001b[39;49m\u001b[43m(\u001b[49m\u001b[38;5;28;43minput\u001b[39;49m\u001b[43m(\u001b[49m\u001b[38;5;124;43m\"\u001b[39;49m\u001b[38;5;124;43m당신의 점수를 입력하세요 : \u001b[39;49m\u001b[38;5;124;43m\"\u001b[39;49m\u001b[43m)\u001b[49m\u001b[43m)\u001b[49m\n\u001b[0;32m      3\u001b[0m \u001b[38;5;28;01mif\u001b[39;00m score \u001b[38;5;241m>\u001b[39m\u001b[38;5;241m=\u001b[39m \u001b[38;5;241m90\u001b[39m:\n\u001b[0;32m      4\u001b[0m     \u001b[38;5;28mprint\u001b[39m(\u001b[38;5;124m\"\u001b[39m\u001b[38;5;124mA\u001b[39m\u001b[38;5;124m\"\u001b[39m)\n",
      "\u001b[1;31mValueError\u001b[0m: invalid literal for int() with base 10: ''"
     ]
    }
   ],
   "source": [
    "score = int(input(\"당신의 점수를 입력하세요 : \"))\n",
    "\n",
    "if score >= 90:\n",
    "    print(\"A\")\n",
    "else:\n",
    "    if score >= 80:\n",
    "        print(\"B\")\n",
    "    else:\n",
    "        if score >= 70:\n",
    "            print(\"C\")\n",
    "        else:\n",
    "            if score >= 60:\n",
    "                print(\"D\")\n",
    "            else:\n",
    "                print(\"F\")\n",
    "\n",
    "print(\"학점입니다.\")"
   ]
  },
  {
   "cell_type": "code",
   "execution_count": null,
   "metadata": {},
   "outputs": [],
   "source": [
    "score = int(input(\"당신의 점수를 입력하세요 : \"))\n",
    "\n",
    "if score >= 90:\n",
    "    print(\"A\")\n",
    "elif score >= 80:\n",
    "    print(\"B\")\n",
    "elif score >= 70:\n",
    "    print(\"C\")\n",
    "elif score >= 60:\n",
    "    print(\"D\")\n",
    "else:\n",
    "    print(\"F\")\n",
    "\n",
    "print(\"학점입니다.\")"
   ]
  },
  {
   "cell_type": "code",
   "execution_count": null,
   "metadata": {},
   "outputs": [],
   "source": [
    "fruit = [\"사과\",\"배\",\"\",\"포도\"]\n",
    "print(fruit)\n",
    "\n",
    "fruit.append(\"귤\")\n",
    "print(fruit)\n",
    "\n",
    "if \"딸기\" in fruit:\n",
    "    print(\"딸기가 있네요.\")\n",
    "else:\n",
    "    print(\"딸기가 없는데요?\")"
   ]
  },
  {
   "cell_type": "code",
   "execution_count": null,
   "metadata": {},
   "outputs": [],
   "source": [
    "import random\n",
    "\n",
    "numbers = []\n",
    "for num in range(10):\n",
    "    numbers.append(random.randrange(0,10))\n",
    "    print(numbers)\n",
    "\n",
    "for num in range(10):\n",
    "    if num not in numbers:\n",
    "        print(\"숫자 %d는 리스트에 없어요\" % num)"
   ]
  },
  {
   "cell_type": "code",
   "execution_count": null,
   "metadata": {},
   "outputs": [],
   "source": [
    "select, answer, numStr, num1, num2 = 0, 0, \"\", 0, 0\n",
    "\n",
    "select = int(input(\"1. 입력한 수식 계산 2. 두 수 사이의 합계\"))\n",
    "\n",
    "\n",
    "if select == 1:\n",
    "    numStr = input(\"***수식을 입력하세요 : \")\n",
    "    answer = eval(numStr)\n",
    "    print(\"%s 결과는 %5.1f입니다\" %(numStr, answer))\n",
    "elif select == 2:\n",
    "    num1 = int(input(\"*** 첫번째 숫자를 입력하세요 :\"))\n",
    "    num2 = int(input(\"*** 두번째 숫자를 입력하세요 :\"))\n",
    "    for i in range(num1, num2 + 1):\n",
    "        answer += i\n",
    "    print(\"%d+...+%d은 %d입니다.\" % (num1, num2, answer))\n",
    "else:\n",
    "    print(\"1 또는 2만 입력해야 합니다.\")"
   ]
  },
  {
   "cell_type": "markdown",
   "metadata": {},
   "source": [
    "### for 문"
   ]
  },
  {
   "cell_type": "code",
   "execution_count": null,
   "metadata": {},
   "outputs": [],
   "source": [
    "for i in range(0,3,1):\n",
    "    print(\"%d : 안녕하세요? for 문을 공부 중입니다.\" % i)"
   ]
  },
  {
   "cell_type": "code",
   "execution_count": null,
   "metadata": {},
   "outputs": [],
   "source": [
    "for i in range(1,6,1):\n",
    "    print(\"%d\" % i ,end='')\n",
    "    print(i)\n"
   ]
  },
  {
   "cell_type": "code",
   "execution_count": null,
   "metadata": {},
   "outputs": [],
   "source": [
    "i = 0\n",
    "hap = 0\n",
    "\n",
    "for i in range(1,11,1):\n",
    "    hap += i\n",
    "    print(f'{i = }, {hap = }')\n",
    "\n",
    "print(\"1부터 10까지의 합계 : %d\" % hap)"
   ]
  },
  {
   "cell_type": "code",
   "execution_count": null,
   "metadata": {},
   "outputs": [],
   "source": [
    "for i in range(3):\n",
    "    for j in range(2):\n",
    "        print(\"파이썬 (i값 : %d, j값 %d)\" % (i,j))"
   ]
  },
  {
   "cell_type": "code",
   "execution_count": null,
   "metadata": {},
   "outputs": [],
   "source": [
    "print(\"구구단을 출력해봅시다.\\n\")\n",
    "\n",
    "for i in range(2,10):\n",
    "    print(\"%d단을 시작합니다.\\n\" % i)\n",
    "    for j in range(1,10):\n",
    "        # print(\"%d * %d = %d\" % (i,j,i*j))\n",
    "        print(f\"{i} * {j} = {i*j}\")\n",
    "    print()"
   ]
  },
  {
   "cell_type": "markdown",
   "metadata": {},
   "source": [
    "### while 문"
   ]
  },
  {
   "cell_type": "code",
   "execution_count": null,
   "metadata": {},
   "outputs": [],
   "source": [
    "i = 0\n",
    "while i<3:\n",
    "    print(\"%d : 안녕하세요. while 문을 공부 중입니다.\" % i)\n",
    "    i += 1"
   ]
  },
  {
   "cell_type": "code",
   "execution_count": null,
   "metadata": {},
   "outputs": [],
   "source": [
    "i, hap = 0,0\n",
    "\n",
    "i = 1\n",
    "while i<11:\n",
    "    hap += i\n",
    "    i += 1\n",
    "\n",
    "print(\"1부터 10까지의 합계 : %d\" % hap)"
   ]
  },
  {
   "cell_type": "code",
   "execution_count": null,
   "metadata": {},
   "outputs": [],
   "source": [
    "for i in range(1, 100):\n",
    "    print(\"for 문을 %d번 실행했습니다.\" % i)\n",
    "    break"
   ]
  },
  {
   "cell_type": "code",
   "execution_count": null,
   "metadata": {},
   "outputs": [],
   "source": [
    "hap = 0\n",
    "a, b = 0, 0\n",
    "\n",
    "while True:\n",
    "    a = int(input(\"더할 첫 번째 수를 입력하세요 : \"))\n",
    "    if a == 0:\n",
    "        break\n",
    "    b = int(input(\"더할 두 번째 수를 입력하세요 : \"))\n",
    "    hap = a + b\n",
    "    print(\"%d + %d = %d\" % (a, b, hap))\n",
    "\n",
    "print(\"0을 입력하여 반복문을 탈출완료\")"
   ]
  },
  {
   "cell_type": "code",
   "execution_count": null,
   "metadata": {},
   "outputs": [],
   "source": [
    "hap, i = 0,0\n",
    "\n",
    "for i in  range(1,101):\n",
    "    if i%3 == 0:\n",
    "        continue\n",
    "    hap += i\n",
    "\n",
    "print(\"1~100까지 3의 배수를 제외한 합계 : %d\" % hap)"
   ]
  },
  {
   "cell_type": "markdown",
   "metadata": {},
   "source": [
    "### 리스트"
   ]
  },
  {
   "cell_type": "code",
   "execution_count": null,
   "metadata": {},
   "outputs": [],
   "source": [
    "aa = [0,0,0,0]\n",
    "hap = 0\n",
    "\n",
    "aa[0] = int(input(\"1번째 숫자 : \"))\n",
    "aa[1] = int(input(\"2번째 숫자 : \"))\n",
    "aa[2] = int(input(\"3번째 숫자 : \"))\n",
    "aa[3] = int(input(\"4번째 숫자 : \"))\n",
    "\n",
    "hap = aa[0] + aa[1] + aa[2] + aa[3]\n",
    "\n",
    "print(\"합계 ==> %d\" % hap)"
   ]
  },
  {
   "cell_type": "code",
   "execution_count": null,
   "metadata": {},
   "outputs": [],
   "source": [
    "aa = []\n",
    "for i in range(0,100):\n",
    "    aa.append(0)\n",
    "print(len(aa))"
   ]
  },
  {
   "cell_type": "code",
   "execution_count": null,
   "metadata": {},
   "outputs": [],
   "source": [
    "aa = []\n",
    "for i in range(4):\n",
    "    aa.append(0)\n",
    "hap = 0\n",
    "\n",
    "for i in range(4):\n",
    "    aa[i] = int(input(str(i+1) + \"번째 숫자 : \"))\n",
    "\n",
    "hap = aa[0] + aa[1] + aa[2] + aa[3]\n",
    "\n",
    "print(\"합계 ==> %d\" % hap)"
   ]
  },
  {
   "cell_type": "code",
   "execution_count": null,
   "metadata": {},
   "outputs": [],
   "source": [
    "aa = []\n",
    "for i in range(5):\n",
    "    aa.append(0)\n",
    "hap = 0\n",
    "    \n",
    "# for i in range(5):\n",
    "#     hap += aa[i]\n",
    "\n",
    "i = 0\n",
    "while i < len(aa):\n",
    "    aa[i] = int(input(str(i+1) + \"번째 숫자 : \"))\n",
    "    hap += aa[i]\n",
    "    i += 1\n",
    "\n",
    "print(\"합계 ==> %d\" % hap)"
   ]
  },
  {
   "cell_type": "markdown",
   "metadata": {},
   "source": [
    "#### 리스트 슬라이싱"
   ]
  },
  {
   "cell_type": "code",
   "execution_count": null,
   "metadata": {},
   "outputs": [
    {
     "name": "stdout",
     "output_type": "stream",
     "text": [
      "[10, 20, 30]\n",
      "[30, 40]\n",
      "[30, 40]\n",
      "[10, 20]\n"
     ]
    }
   ],
   "source": [
    "aa = [10,20,30,40]\n",
    "\n",
    "print(aa[0:3])\n",
    "print(aa[2:4])\n",
    "print(aa[2:])\n",
    "print(aa[:2])"
   ]
  },
  {
   "cell_type": "code",
   "execution_count": null,
   "metadata": {},
   "outputs": [
    {
     "name": "stdout",
     "output_type": "stream",
     "text": [
      "[10, 20, 30, 40, 50, 60]\n",
      "[10, 20, 30, 10, 20, 30, 10, 20, 30]\n"
     ]
    }
   ],
   "source": [
    "aa = [10, 20, 30]\n",
    "bb = [40, 50, 60]\n",
    "\n",
    "print(aa+bb)\n",
    "print(aa*3)"
   ]
  },
  {
   "cell_type": "code",
   "execution_count": null,
   "metadata": {},
   "outputs": [
    {
     "name": "stdout",
     "output_type": "stream",
     "text": [
      "[10, 200, 30]\n"
     ]
    }
   ],
   "source": [
    "aa = [10, 20, 30]\n",
    "aa[1] = 200\n",
    "\n",
    "print(aa)"
   ]
  },
  {
   "cell_type": "code",
   "execution_count": null,
   "metadata": {},
   "outputs": [
    {
     "name": "stdout",
     "output_type": "stream",
     "text": [
      "[10, 200, 201, 30]\n"
     ]
    }
   ],
   "source": [
    "aa = [10, 20, 30]\n",
    "aa[1:2] = [200, 201]\n",
    "print(aa)"
   ]
  },
  {
   "cell_type": "code",
   "execution_count": null,
   "metadata": {},
   "outputs": [
    {
     "name": "stdout",
     "output_type": "stream",
     "text": [
      "[10, [200, 201, 202], 30]\n"
     ]
    }
   ],
   "source": [
    "aa = [10, 20, 30]\n",
    "aa[1] = [200, 201]\n",
    "print(aa)"
   ]
  },
  {
   "cell_type": "code",
   "execution_count": null,
   "metadata": {},
   "outputs": [],
   "source": [
    "aa = [10, 20, 30]\n",
    "del aa[1]\n",
    "print(aa)"
   ]
  },
  {
   "cell_type": "code",
   "execution_count": null,
   "metadata": {},
   "outputs": [
    {
     "name": "stdout",
     "output_type": "stream",
     "text": [
      "[10, 50]\n"
     ]
    }
   ],
   "source": [
    "aa = [10, 20, 30, 40, 50]\n",
    "aa[1:4] = []\n",
    "\n",
    "print(aa)"
   ]
  },
  {
   "cell_type": "code",
   "execution_count": null,
   "metadata": {},
   "outputs": [
    {
     "name": "stdout",
     "output_type": "stream",
     "text": [
      "[]\n",
      "None\n"
     ]
    }
   ],
   "source": [
    "aa = [10, 20, 30]; aa = []; print(aa)\n",
    "aa = [10, 20, 30]; aa = None; print(aa)\n",
    "# aa = [10, 20, 30]; del aa; print(aa)"
   ]
  }
 ],
 "metadata": {
  "kernelspec": {
   "display_name": "Python 3",
   "language": "python",
   "name": "python3"
  },
  "language_info": {
   "codemirror_mode": {
    "name": "ipython",
    "version": 3
   },
   "file_extension": ".py",
   "mimetype": "text/x-python",
   "name": "python",
   "nbconvert_exporter": "python",
   "pygments_lexer": "ipython3",
   "version": "3.12.2"
  }
 },
 "nbformat": 4,
 "nbformat_minor": 2
}
