{
 "cells": [
  {
   "cell_type": "markdown",
   "metadata": {},
   "source": [
    "## GUI 만들기"
   ]
  },
  {
   "cell_type": "code",
   "execution_count": null,
   "metadata": {},
   "outputs": [],
   "source": [
    "from tkinter import*\n",
    "\n",
    "# 새로운 창 객체 생성\n",
    "window = Tk()\n",
    "window.title(\"제목을 적어봐요\")\n",
    "window.geometry(\"400x400\")\n",
    "window.resizable(width=True, height=True)\n",
    "\n",
    "# 창을 구성 및 처리\n",
    "window.mainloop()"
   ]
  },
  {
   "cell_type": "code",
   "execution_count": null,
   "metadata": {},
   "outputs": [],
   "source": [
    "from tkinter import*\n",
    "window = Tk()\n",
    "\n",
    "label1 = Label(window, text = \"COOKBOOK, 데이터분석을\")\n",
    "label2 = Label(window, text = \"열심히\", font=(\"궁서체\",30), fg=\"blue\")\n",
    "label3 = Label(window, text = \"공부 중입니다.\", bg=\"magenta\", width=20, height=5, anchor=SE)\n",
    "\n",
    "label1.pack()\n",
    "label2.pack()\n",
    "label3.pack()\n",
    "\n",
    "# 창을 구성 및 처리\n",
    "window.mainloop()"
   ]
  },
  {
   "cell_type": "code",
   "execution_count": null,
   "metadata": {},
   "outputs": [],
   "source": [
    "import os\n",
    "\n",
    "os.getcwd()"
   ]
  },
  {
   "cell_type": "code",
   "execution_count": 5,
   "metadata": {},
   "outputs": [],
   "source": [
    "from tkinter import*\n",
    "window = Tk()\n",
    "\n",
    "# photo1 = PhotoImage(file = \"C:/Users/user/Desktop/Study/python/source/GIF/cat10.gif\")\n",
    "photo1 = PhotoImage(file = \"../source/GIF/cat10.gif\")\n",
    "label1 = Label(window, image=photo1)\n",
    "\n",
    "photo2 = PhotoImage(file = \"../source/GIF/dog12.gif\")\n",
    "label2 = Label(window, image=photo2)\n",
    "\n",
    "photo3 = PhotoImage(file = \"../source/GIF/dog13.gif\")\n",
    "label3 = Label(window, image=photo3)\n",
    "\n",
    "label1.pack(side=BOTTOM)\n",
    "label2.pack(side=BOTTOM)\n",
    "label3.pack(side=BOTTOM)\n",
    "\n",
    "# 창을 구성 및 처리\n",
    "window.mainloop()"
   ]
  },
  {
   "cell_type": "markdown",
   "metadata": {},
   "source": [
    "### 버튼"
   ]
  },
  {
   "cell_type": "code",
   "execution_count": 2,
   "metadata": {},
   "outputs": [],
   "source": [
    "from tkinter import*\n",
    "window = Tk()\n",
    "\n",
    "button1 = Button(window, text=\"파이썬 종료\", fg=\"red\", command=quit)\n",
    "\n",
    "button1.pack()\n",
    "\n",
    "window.mainloop()"
   ]
  },
  {
   "cell_type": "markdown",
   "metadata": {},
   "source": [
    "#### 사용자 함수 할당"
   ]
  },
  {
   "cell_type": "code",
   "execution_count": 3,
   "metadata": {},
   "outputs": [],
   "source": [
    "from tkinter import*\n",
    "from tkinter import messagebox\n",
    "\n",
    "# 메시지 박스 창 생성\n",
    "def myFunc():\n",
    "    messagebox.showinfo(\"강아지 버튼\",\"강아지가 귀엽죠?\")\n",
    "\n",
    "window = Tk()\n",
    "\n",
    "photo = PhotoImage(file = \"../source/GIF/dog12.gif\")\n",
    "button1 = Button(window, image=photo, command=myFunc)\n",
    "\n",
    "button1.pack()\n",
    "\n",
    "window.mainloop()"
   ]
  },
  {
   "cell_type": "code",
   "execution_count": 8,
   "metadata": {},
   "outputs": [],
   "source": [
    "from tkinter import*\n",
    "from tkinter import messagebox\n",
    "window = Tk()\n",
    "\n",
    "def myFunc():\n",
    "    if chk.get() == 0:\n",
    "        messagebox.showinfo(\"꺼질 때 창 제목\",\"체크버튼이 꺼졌어요\")\n",
    "    else:\n",
    "        messagebox.showinfo(\"켜질 떄 창 제목\",\"체크버튼이 켜졌어요\")\n",
    "\n",
    "chk = IntVar()\n",
    "cb1 = Checkbutton(window, text=\"클릭하세요\", variable=chk, command=myFunc)\n",
    "\n",
    "cb1.pack()\n",
    "\n",
    "window.mainloop()"
   ]
  },
  {
   "cell_type": "code",
   "execution_count": 11,
   "metadata": {},
   "outputs": [],
   "source": [
    "from tkinter import*\n",
    "window = Tk()\n",
    "\n",
    "def myFunc():\n",
    "    if var.get() == 1:\n",
    "        label1.configure(text=\"파이썬\")\n",
    "    elif var.get() == 2:\n",
    "        label1.configure(text=\"C++\")\n",
    "    else:\n",
    "        label1.configure(text=\"Java\")\n",
    "\n",
    "var = IntVar()\n",
    "rb1 = Radiobutton(window, text=\"파이썬\", variable=var,value=1, command=myFunc)\n",
    "rb2 = Radiobutton(window, text=\"C++\", variable=var,value=2, command=myFunc)\n",
    "rb3 = Radiobutton(window, text=\"Java\", variable=var,value=3, command=myFunc)\n",
    "\n",
    "label1 = Label(window, text=\"선택한 언어 : \", fg=\"red\")\n",
    "\n",
    "rb1.pack()\n",
    "rb2.pack()\n",
    "rb3.pack()\n",
    "label1.pack()\n",
    "\n",
    "window.mainloop()"
   ]
  },
  {
   "cell_type": "code",
   "execution_count": null,
   "metadata": {},
   "outputs": [],
   "source": [
    "from tkinter import*\n",
    "window = Tk()\n",
    "\n",
    "mainMenu = Menu(window)\n",
    "window.config(menu=mainMenu)\n",
    "\n",
    "fileMenu = Menu(mainMenu)\n",
    "mainMenu.add_cascade(label=\"파일\", menu=fileMenu)\n",
    "fileMenu.add_command(label=\"열기\")\n",
    "fileMenu.add_separator()\n",
    "fileMenu.add_command(label=\"종료\")\n",
    "\n",
    "window.mainloop()"
   ]
  },
  {
   "cell_type": "code",
   "execution_count": 6,
   "metadata": {},
   "outputs": [],
   "source": [
    "from tkinter import*\n",
    "from tkinter import messagebox\n",
    "\n",
    "def func_open():\n",
    "    messagebox.showinfo(\"메뉴선택\",\"열기 메뉴를 선택함\")\n",
    "\n",
    "def func_exit():\n",
    "    window.quit()\n",
    "    window.destroy()\n",
    "\n",
    "window = Tk()\n",
    "\n",
    "# 메뉴 생성\n",
    "mainMenu = Menu(window)\n",
    "# window에 메뉴 설정\n",
    "window.config(menu=mainMenu)\n",
    "\n",
    "# 파일 메뉴 생성\n",
    "fileMenu = Menu(mainMenu)\n",
    "# 메뉴 하위에 파일 메뉴 추가\n",
    "mainMenu.add_cascade(label=\"파일\", menu=fileMenu)\n",
    "\n",
    "# 파일 메뉴에 서브 메뉴 추가\n",
    "fileMenu.add_command(label=\"열기\",command=func_open)\n",
    "fileMenu.add_separator() # 구분선\n",
    "fileMenu.add_command(label=\"종료\",command=func_exit)\n",
    "\n",
    "window.mainloop()"
   ]
  }
 ],
 "metadata": {
  "kernelspec": {
   "display_name": "Python 3",
   "language": "python",
   "name": "python3"
  },
  "language_info": {
   "codemirror_mode": {
    "name": "ipython",
    "version": 3
   },
   "file_extension": ".py",
   "mimetype": "text/x-python",
   "name": "python",
   "nbconvert_exporter": "python",
   "pygments_lexer": "ipython3",
   "version": "3.12.2"
  }
 },
 "nbformat": 4,
 "nbformat_minor": 2
}
